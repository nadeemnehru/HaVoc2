{
 "cells": [
  {
   "cell_type": "code",
   "execution_count": 1,
   "metadata": {},
   "outputs": [],
   "source": [
    "import pandas as pd"
   ]
  },
  {
   "cell_type": "code",
   "execution_count": 2,
   "metadata": {},
   "outputs": [],
   "source": [
    "df = pd.read_csv('./Downloads/Data/Datasets/NonMedical/companiesNew.csv')"
   ]
  },
  {
   "cell_type": "code",
   "execution_count": 3,
   "metadata": {},
   "outputs": [
    {
     "data": {
      "text/html": [
       "<div>\n",
       "<style scoped>\n",
       "    .dataframe tbody tr th:only-of-type {\n",
       "        vertical-align: middle;\n",
       "    }\n",
       "\n",
       "    .dataframe tbody tr th {\n",
       "        vertical-align: top;\n",
       "    }\n",
       "\n",
       "    .dataframe thead th {\n",
       "        text-align: right;\n",
       "    }\n",
       "</style>\n",
       "<table border=\"1\" class=\"dataframe\">\n",
       "  <thead>\n",
       "    <tr style=\"text-align: right;\">\n",
       "      <th></th>\n",
       "      <th>Id</th>\n",
       "      <th>Name</th>\n",
       "      <th>Number</th>\n",
       "      <th>Category</th>\n",
       "    </tr>\n",
       "  </thead>\n",
       "  <tbody>\n",
       "    <tr>\n",
       "      <th>0</th>\n",
       "      <td>0</td>\n",
       "      <td>! LTD</td>\n",
       "      <td>08209948</td>\n",
       "      <td>Private Limited Company</td>\n",
       "    </tr>\n",
       "    <tr>\n",
       "      <th>1</th>\n",
       "      <td>1</td>\n",
       "      <td>!? LTD</td>\n",
       "      <td>11399177</td>\n",
       "      <td>Private Limited Company</td>\n",
       "    </tr>\n",
       "    <tr>\n",
       "      <th>2</th>\n",
       "      <td>2</td>\n",
       "      <td>!BIG IMPACT GRAPHICS LIMITED</td>\n",
       "      <td>11743365</td>\n",
       "      <td>Private Limited Company</td>\n",
       "    </tr>\n",
       "    <tr>\n",
       "      <th>3</th>\n",
       "      <td>3</td>\n",
       "      <td>!NNOV8 LIMITED</td>\n",
       "      <td>11006939</td>\n",
       "      <td>Private Limited Company</td>\n",
       "    </tr>\n",
       "    <tr>\n",
       "      <th>4</th>\n",
       "      <td>4</td>\n",
       "      <td>!NSPIRED INVESTMENTS LTD</td>\n",
       "      <td>SC606050</td>\n",
       "      <td>Private Limited Company</td>\n",
       "    </tr>\n",
       "  </tbody>\n",
       "</table>\n",
       "</div>"
      ],
      "text/plain": [
       "   Id                          Name    Number                 Category\n",
       "0   0                         ! LTD  08209948  Private Limited Company\n",
       "1   1                        !? LTD  11399177  Private Limited Company\n",
       "2   2  !BIG IMPACT GRAPHICS LIMITED  11743365  Private Limited Company\n",
       "3   3                !NNOV8 LIMITED  11006939  Private Limited Company\n",
       "4   4      !NSPIRED INVESTMENTS LTD  SC606050  Private Limited Company"
      ]
     },
     "execution_count": 3,
     "metadata": {},
     "output_type": "execute_result"
    }
   ],
   "source": [
    "df.head()"
   ]
  },
  {
   "cell_type": "code",
   "execution_count": 36,
   "metadata": {},
   "outputs": [],
   "source": [
    "dfNew = df[0:100000]"
   ]
  },
  {
   "cell_type": "code",
   "execution_count": 37,
   "metadata": {},
   "outputs": [
    {
     "data": {
      "text/html": [
       "<div>\n",
       "<style scoped>\n",
       "    .dataframe tbody tr th:only-of-type {\n",
       "        vertical-align: middle;\n",
       "    }\n",
       "\n",
       "    .dataframe tbody tr th {\n",
       "        vertical-align: top;\n",
       "    }\n",
       "\n",
       "    .dataframe thead th {\n",
       "        text-align: right;\n",
       "    }\n",
       "</style>\n",
       "<table border=\"1\" class=\"dataframe\">\n",
       "  <thead>\n",
       "    <tr style=\"text-align: right;\">\n",
       "      <th></th>\n",
       "      <th>Id</th>\n",
       "      <th>Name</th>\n",
       "      <th>Number</th>\n",
       "      <th>Category</th>\n",
       "      <th>TUI</th>\n",
       "    </tr>\n",
       "  </thead>\n",
       "  <tbody>\n",
       "    <tr>\n",
       "      <th>99995</th>\n",
       "      <td>99995</td>\n",
       "      <td>AARON PREMIUM FINANCE LIMITED</td>\n",
       "      <td>07362306</td>\n",
       "      <td>Private Limited Company</td>\n",
       "      <td>T511</td>\n",
       "    </tr>\n",
       "    <tr>\n",
       "      <th>99996</th>\n",
       "      <td>99996</td>\n",
       "      <td>AARON PRIGG ENTERPRISES LIMITED</td>\n",
       "      <td>09288641</td>\n",
       "      <td>Private Limited Company</td>\n",
       "      <td>T511</td>\n",
       "    </tr>\n",
       "    <tr>\n",
       "      <th>99997</th>\n",
       "      <td>99997</td>\n",
       "      <td>AARON PRINCE CONSULTING LIMITED</td>\n",
       "      <td>06996571</td>\n",
       "      <td>Private Limited Company</td>\n",
       "      <td>T511</td>\n",
       "    </tr>\n",
       "    <tr>\n",
       "      <th>99998</th>\n",
       "      <td>99998</td>\n",
       "      <td>AARON PRINTERS LIMITED</td>\n",
       "      <td>04446484</td>\n",
       "      <td>Private Limited Company</td>\n",
       "      <td>T511</td>\n",
       "    </tr>\n",
       "    <tr>\n",
       "      <th>99999</th>\n",
       "      <td>99999</td>\n",
       "      <td>AARON PRINTING AND MAILING SOLUTIONS LIMITED</td>\n",
       "      <td>09632263</td>\n",
       "      <td>Private Limited Company</td>\n",
       "      <td>T511</td>\n",
       "    </tr>\n",
       "  </tbody>\n",
       "</table>\n",
       "</div>"
      ],
      "text/plain": [
       "          Id                                          Name    Number  \\\n",
       "99995  99995                 AARON PREMIUM FINANCE LIMITED  07362306   \n",
       "99996  99996               AARON PRIGG ENTERPRISES LIMITED  09288641   \n",
       "99997  99997               AARON PRINCE CONSULTING LIMITED  06996571   \n",
       "99998  99998                        AARON PRINTERS LIMITED  04446484   \n",
       "99999  99999  AARON PRINTING AND MAILING SOLUTIONS LIMITED  09632263   \n",
       "\n",
       "                      Category   TUI  \n",
       "99995  Private Limited Company  T511  \n",
       "99996  Private Limited Company  T511  \n",
       "99997  Private Limited Company  T511  \n",
       "99998  Private Limited Company  T511  \n",
       "99999  Private Limited Company  T511  "
      ]
     },
     "execution_count": 37,
     "metadata": {},
     "output_type": "execute_result"
    }
   ],
   "source": [
    "dfNew.tail()"
   ]
  },
  {
   "cell_type": "code",
   "execution_count": 38,
   "metadata": {},
   "outputs": [],
   "source": [
    "categories = set(df.Category)"
   ]
  },
  {
   "cell_type": "code",
   "execution_count": 39,
   "metadata": {},
   "outputs": [
    {
     "data": {
      "text/plain": [
       "{'Charitable Incorporated Organisation',\n",
       " 'Community Interest Company',\n",
       " 'European Public Limited-Liability Company (SE)',\n",
       " 'Industrial and Provident Society',\n",
       " 'Investment Company with Variable Capital',\n",
       " 'Investment Company with Variable Capital (Securities)',\n",
       " 'Investment Company with Variable Capital(Umbrella)',\n",
       " 'Limited Liability Partnership',\n",
       " 'Limited Partnership',\n",
       " 'Old Public Company',\n",
       " 'Other Company Type',\n",
       " 'Other company type',\n",
       " \"PRI/LBG/NSC (Private, Limited by guarantee, no share capital, use of 'Limited' exemption)\",\n",
       " 'PRI/LTD BY GUAR/NSC (Private, limited by guarantee, no share capital)',\n",
       " 'PRIV LTD SECT. 30 (Private limited company, section 30 of the Companies Act)',\n",
       " 'Private Limited Company',\n",
       " 'Private Unlimited',\n",
       " 'Private Unlimited Company',\n",
       " 'Protected Cell Company',\n",
       " 'Public Limited Company',\n",
       " 'Registered Society',\n",
       " 'Royal Charter Company',\n",
       " 'Scottish Charitable Incorporated Organisation',\n",
       " 'Scottish Partnership'}"
      ]
     },
     "execution_count": 39,
     "metadata": {},
     "output_type": "execute_result"
    }
   ],
   "source": [
    "categories"
   ]
  },
  {
   "cell_type": "code",
   "execution_count": 40,
   "metadata": {},
   "outputs": [],
   "source": [
    "categories.remove('Other company type')"
   ]
  },
  {
   "cell_type": "code",
   "execution_count": 41,
   "metadata": {},
   "outputs": [
    {
     "data": {
      "text/plain": [
       "{'Charitable Incorporated Organisation',\n",
       " 'Community Interest Company',\n",
       " 'European Public Limited-Liability Company (SE)',\n",
       " 'Industrial and Provident Society',\n",
       " 'Investment Company with Variable Capital',\n",
       " 'Investment Company with Variable Capital (Securities)',\n",
       " 'Investment Company with Variable Capital(Umbrella)',\n",
       " 'Limited Liability Partnership',\n",
       " 'Limited Partnership',\n",
       " 'Old Public Company',\n",
       " 'Other Company Type',\n",
       " \"PRI/LBG/NSC (Private, Limited by guarantee, no share capital, use of 'Limited' exemption)\",\n",
       " 'PRI/LTD BY GUAR/NSC (Private, limited by guarantee, no share capital)',\n",
       " 'PRIV LTD SECT. 30 (Private limited company, section 30 of the Companies Act)',\n",
       " 'Private Limited Company',\n",
       " 'Private Unlimited',\n",
       " 'Private Unlimited Company',\n",
       " 'Protected Cell Company',\n",
       " 'Public Limited Company',\n",
       " 'Registered Society',\n",
       " 'Royal Charter Company',\n",
       " 'Scottish Charitable Incorporated Organisation',\n",
       " 'Scottish Partnership'}"
      ]
     },
     "execution_count": 41,
     "metadata": {},
     "output_type": "execute_result"
    }
   ],
   "source": [
    "categories"
   ]
  },
  {
   "cell_type": "code",
   "execution_count": 42,
   "metadata": {},
   "outputs": [],
   "source": [
    "dfNew = dfNew[['Name','Number','Category']]"
   ]
  },
  {
   "cell_type": "code",
   "execution_count": 43,
   "metadata": {},
   "outputs": [
    {
     "data": {
      "text/html": [
       "<div>\n",
       "<style scoped>\n",
       "    .dataframe tbody tr th:only-of-type {\n",
       "        vertical-align: middle;\n",
       "    }\n",
       "\n",
       "    .dataframe tbody tr th {\n",
       "        vertical-align: top;\n",
       "    }\n",
       "\n",
       "    .dataframe thead th {\n",
       "        text-align: right;\n",
       "    }\n",
       "</style>\n",
       "<table border=\"1\" class=\"dataframe\">\n",
       "  <thead>\n",
       "    <tr style=\"text-align: right;\">\n",
       "      <th></th>\n",
       "      <th>Name</th>\n",
       "      <th>Number</th>\n",
       "      <th>Category</th>\n",
       "    </tr>\n",
       "  </thead>\n",
       "  <tbody>\n",
       "    <tr>\n",
       "      <th>99995</th>\n",
       "      <td>AARON PREMIUM FINANCE LIMITED</td>\n",
       "      <td>07362306</td>\n",
       "      <td>Private Limited Company</td>\n",
       "    </tr>\n",
       "    <tr>\n",
       "      <th>99996</th>\n",
       "      <td>AARON PRIGG ENTERPRISES LIMITED</td>\n",
       "      <td>09288641</td>\n",
       "      <td>Private Limited Company</td>\n",
       "    </tr>\n",
       "    <tr>\n",
       "      <th>99997</th>\n",
       "      <td>AARON PRINCE CONSULTING LIMITED</td>\n",
       "      <td>06996571</td>\n",
       "      <td>Private Limited Company</td>\n",
       "    </tr>\n",
       "    <tr>\n",
       "      <th>99998</th>\n",
       "      <td>AARON PRINTERS LIMITED</td>\n",
       "      <td>04446484</td>\n",
       "      <td>Private Limited Company</td>\n",
       "    </tr>\n",
       "    <tr>\n",
       "      <th>99999</th>\n",
       "      <td>AARON PRINTING AND MAILING SOLUTIONS LIMITED</td>\n",
       "      <td>09632263</td>\n",
       "      <td>Private Limited Company</td>\n",
       "    </tr>\n",
       "  </tbody>\n",
       "</table>\n",
       "</div>"
      ],
      "text/plain": [
       "                                               Name    Number  \\\n",
       "99995                 AARON PREMIUM FINANCE LIMITED  07362306   \n",
       "99996               AARON PRIGG ENTERPRISES LIMITED  09288641   \n",
       "99997               AARON PRINCE CONSULTING LIMITED  06996571   \n",
       "99998                        AARON PRINTERS LIMITED  04446484   \n",
       "99999  AARON PRINTING AND MAILING SOLUTIONS LIMITED  09632263   \n",
       "\n",
       "                      Category  \n",
       "99995  Private Limited Company  \n",
       "99996  Private Limited Company  \n",
       "99997  Private Limited Company  \n",
       "99998  Private Limited Company  \n",
       "99999  Private Limited Company  "
      ]
     },
     "execution_count": 43,
     "metadata": {},
     "output_type": "execute_result"
    }
   ],
   "source": [
    "dfNew.tail()"
   ]
  },
  {
   "cell_type": "code",
   "execution_count": 44,
   "metadata": {},
   "outputs": [],
   "source": [
    "categoriesDict = {}"
   ]
  },
  {
   "cell_type": "code",
   "execution_count": 45,
   "metadata": {},
   "outputs": [],
   "source": [
    "count = 500"
   ]
  },
  {
   "cell_type": "code",
   "execution_count": 46,
   "metadata": {},
   "outputs": [],
   "source": [
    "for category in categories:\n",
    "    categoriesDict[category] = 'T' + str(count)\n",
    "    count += 1"
   ]
  },
  {
   "cell_type": "code",
   "execution_count": 47,
   "metadata": {},
   "outputs": [
    {
     "data": {
      "text/plain": [
       "{'Limited Partnership': 'T500',\n",
       " 'Investment Company with Variable Capital': 'T501',\n",
       " 'Limited Liability Partnership': 'T502',\n",
       " 'Private Unlimited Company': 'T503',\n",
       " 'Registered Society': 'T504',\n",
       " 'Charitable Incorporated Organisation': 'T505',\n",
       " 'Private Unlimited': 'T506',\n",
       " 'Old Public Company': 'T507',\n",
       " 'PRIV LTD SECT. 30 (Private limited company, section 30 of the Companies Act)': 'T508',\n",
       " 'Scottish Charitable Incorporated Organisation': 'T509',\n",
       " 'European Public Limited-Liability Company (SE)': 'T510',\n",
       " 'Private Limited Company': 'T511',\n",
       " 'Investment Company with Variable Capital(Umbrella)': 'T512',\n",
       " \"PRI/LBG/NSC (Private, Limited by guarantee, no share capital, use of 'Limited' exemption)\": 'T513',\n",
       " 'Royal Charter Company': 'T514',\n",
       " 'PRI/LTD BY GUAR/NSC (Private, limited by guarantee, no share capital)': 'T515',\n",
       " 'Community Interest Company': 'T516',\n",
       " 'Public Limited Company': 'T517',\n",
       " 'Scottish Partnership': 'T518',\n",
       " 'Investment Company with Variable Capital (Securities)': 'T519',\n",
       " 'Industrial and Provident Society': 'T520',\n",
       " 'Other Company Type': 'T521',\n",
       " 'Protected Cell Company': 'T522'}"
      ]
     },
     "execution_count": 47,
     "metadata": {},
     "output_type": "execute_result"
    }
   ],
   "source": [
    "categoriesDict"
   ]
  },
  {
   "cell_type": "code",
   "execution_count": 48,
   "metadata": {},
   "outputs": [],
   "source": [
    "temp = list(range(0,100000))\n",
    "    "
   ]
  },
  {
   "cell_type": "code",
   "execution_count": 49,
   "metadata": {},
   "outputs": [],
   "source": [
    "newList = []"
   ]
  },
  {
   "cell_type": "code",
   "execution_count": 50,
   "metadata": {},
   "outputs": [],
   "source": [
    "for entry in temp:\n",
    "    newList.append('CN' + str(entry).zfill(8))"
   ]
  },
  {
   "cell_type": "code",
   "execution_count": 51,
   "metadata": {},
   "outputs": [],
   "source": [
    "cuis = pd.Series(data=newList)"
   ]
  },
  {
   "cell_type": "code",
   "execution_count": 52,
   "metadata": {},
   "outputs": [],
   "source": [
    "dfNew['CUI'] = cuis"
   ]
  },
  {
   "cell_type": "code",
   "execution_count": 53,
   "metadata": {},
   "outputs": [
    {
     "data": {
      "text/html": [
       "<div>\n",
       "<style scoped>\n",
       "    .dataframe tbody tr th:only-of-type {\n",
       "        vertical-align: middle;\n",
       "    }\n",
       "\n",
       "    .dataframe tbody tr th {\n",
       "        vertical-align: top;\n",
       "    }\n",
       "\n",
       "    .dataframe thead th {\n",
       "        text-align: right;\n",
       "    }\n",
       "</style>\n",
       "<table border=\"1\" class=\"dataframe\">\n",
       "  <thead>\n",
       "    <tr style=\"text-align: right;\">\n",
       "      <th></th>\n",
       "      <th>Name</th>\n",
       "      <th>Number</th>\n",
       "      <th>Category</th>\n",
       "      <th>CUI</th>\n",
       "    </tr>\n",
       "  </thead>\n",
       "  <tbody>\n",
       "    <tr>\n",
       "      <th>0</th>\n",
       "      <td>! LTD</td>\n",
       "      <td>08209948</td>\n",
       "      <td>Private Limited Company</td>\n",
       "      <td>CN00000000</td>\n",
       "    </tr>\n",
       "    <tr>\n",
       "      <th>1</th>\n",
       "      <td>!? LTD</td>\n",
       "      <td>11399177</td>\n",
       "      <td>Private Limited Company</td>\n",
       "      <td>CN00000001</td>\n",
       "    </tr>\n",
       "    <tr>\n",
       "      <th>2</th>\n",
       "      <td>!BIG IMPACT GRAPHICS LIMITED</td>\n",
       "      <td>11743365</td>\n",
       "      <td>Private Limited Company</td>\n",
       "      <td>CN00000002</td>\n",
       "    </tr>\n",
       "    <tr>\n",
       "      <th>3</th>\n",
       "      <td>!NNOV8 LIMITED</td>\n",
       "      <td>11006939</td>\n",
       "      <td>Private Limited Company</td>\n",
       "      <td>CN00000003</td>\n",
       "    </tr>\n",
       "    <tr>\n",
       "      <th>4</th>\n",
       "      <td>!NSPIRED INVESTMENTS LTD</td>\n",
       "      <td>SC606050</td>\n",
       "      <td>Private Limited Company</td>\n",
       "      <td>CN00000004</td>\n",
       "    </tr>\n",
       "  </tbody>\n",
       "</table>\n",
       "</div>"
      ],
      "text/plain": [
       "                           Name    Number                 Category         CUI\n",
       "0                         ! LTD  08209948  Private Limited Company  CN00000000\n",
       "1                        !? LTD  11399177  Private Limited Company  CN00000001\n",
       "2  !BIG IMPACT GRAPHICS LIMITED  11743365  Private Limited Company  CN00000002\n",
       "3                !NNOV8 LIMITED  11006939  Private Limited Company  CN00000003\n",
       "4      !NSPIRED INVESTMENTS LTD  SC606050  Private Limited Company  CN00000004"
      ]
     },
     "execution_count": 53,
     "metadata": {},
     "output_type": "execute_result"
    }
   ],
   "source": [
    "dfNew.head()"
   ]
  },
  {
   "cell_type": "code",
   "execution_count": 54,
   "metadata": {},
   "outputs": [],
   "source": [
    "dfNew.Category = dfNew.Category.str.replace('Other company type','Other Company Type')"
   ]
  },
  {
   "cell_type": "code",
   "execution_count": 55,
   "metadata": {},
   "outputs": [],
   "source": [
    "tuis = []"
   ]
  },
  {
   "cell_type": "code",
   "execution_count": 56,
   "metadata": {},
   "outputs": [],
   "source": [
    "for i in range(0,100000):\n",
    "    tuis.append(categoriesDict[dfNew.loc[i].Category])"
   ]
  },
  {
   "cell_type": "code",
   "execution_count": 57,
   "metadata": {},
   "outputs": [],
   "source": [
    "dfNew['TUI'] = pd.Series(data=tuis)"
   ]
  },
  {
   "cell_type": "code",
   "execution_count": 58,
   "metadata": {},
   "outputs": [
    {
     "data": {
      "text/html": [
       "<div>\n",
       "<style scoped>\n",
       "    .dataframe tbody tr th:only-of-type {\n",
       "        vertical-align: middle;\n",
       "    }\n",
       "\n",
       "    .dataframe tbody tr th {\n",
       "        vertical-align: top;\n",
       "    }\n",
       "\n",
       "    .dataframe thead th {\n",
       "        text-align: right;\n",
       "    }\n",
       "</style>\n",
       "<table border=\"1\" class=\"dataframe\">\n",
       "  <thead>\n",
       "    <tr style=\"text-align: right;\">\n",
       "      <th></th>\n",
       "      <th>Name</th>\n",
       "      <th>Number</th>\n",
       "      <th>Category</th>\n",
       "      <th>CUI</th>\n",
       "      <th>TUI</th>\n",
       "    </tr>\n",
       "  </thead>\n",
       "  <tbody>\n",
       "    <tr>\n",
       "      <th>0</th>\n",
       "      <td>! LTD</td>\n",
       "      <td>08209948</td>\n",
       "      <td>Private Limited Company</td>\n",
       "      <td>CN00000000</td>\n",
       "      <td>T511</td>\n",
       "    </tr>\n",
       "    <tr>\n",
       "      <th>1</th>\n",
       "      <td>!? LTD</td>\n",
       "      <td>11399177</td>\n",
       "      <td>Private Limited Company</td>\n",
       "      <td>CN00000001</td>\n",
       "      <td>T511</td>\n",
       "    </tr>\n",
       "    <tr>\n",
       "      <th>2</th>\n",
       "      <td>!BIG IMPACT GRAPHICS LIMITED</td>\n",
       "      <td>11743365</td>\n",
       "      <td>Private Limited Company</td>\n",
       "      <td>CN00000002</td>\n",
       "      <td>T511</td>\n",
       "    </tr>\n",
       "    <tr>\n",
       "      <th>3</th>\n",
       "      <td>!NNOV8 LIMITED</td>\n",
       "      <td>11006939</td>\n",
       "      <td>Private Limited Company</td>\n",
       "      <td>CN00000003</td>\n",
       "      <td>T511</td>\n",
       "    </tr>\n",
       "    <tr>\n",
       "      <th>4</th>\n",
       "      <td>!NSPIRED INVESTMENTS LTD</td>\n",
       "      <td>SC606050</td>\n",
       "      <td>Private Limited Company</td>\n",
       "      <td>CN00000004</td>\n",
       "      <td>T511</td>\n",
       "    </tr>\n",
       "  </tbody>\n",
       "</table>\n",
       "</div>"
      ],
      "text/plain": [
       "                           Name    Number                 Category  \\\n",
       "0                         ! LTD  08209948  Private Limited Company   \n",
       "1                        !? LTD  11399177  Private Limited Company   \n",
       "2  !BIG IMPACT GRAPHICS LIMITED  11743365  Private Limited Company   \n",
       "3                !NNOV8 LIMITED  11006939  Private Limited Company   \n",
       "4      !NSPIRED INVESTMENTS LTD  SC606050  Private Limited Company   \n",
       "\n",
       "          CUI   TUI  \n",
       "0  CN00000000  T511  \n",
       "1  CN00000001  T511  \n",
       "2  CN00000002  T511  \n",
       "3  CN00000003  T511  \n",
       "4  CN00000004  T511  "
      ]
     },
     "execution_count": 58,
     "metadata": {},
     "output_type": "execute_result"
    }
   ],
   "source": [
    "dfNew.head()"
   ]
  },
  {
   "cell_type": "code",
   "execution_count": 59,
   "metadata": {},
   "outputs": [
    {
     "data": {
      "text/html": [
       "<div>\n",
       "<style scoped>\n",
       "    .dataframe tbody tr th:only-of-type {\n",
       "        vertical-align: middle;\n",
       "    }\n",
       "\n",
       "    .dataframe tbody tr th {\n",
       "        vertical-align: top;\n",
       "    }\n",
       "\n",
       "    .dataframe thead th {\n",
       "        text-align: right;\n",
       "    }\n",
       "</style>\n",
       "<table border=\"1\" class=\"dataframe\">\n",
       "  <thead>\n",
       "    <tr style=\"text-align: right;\">\n",
       "      <th></th>\n",
       "      <th>Name</th>\n",
       "      <th>Number</th>\n",
       "      <th>Category</th>\n",
       "      <th>CUI</th>\n",
       "      <th>TUI</th>\n",
       "    </tr>\n",
       "  </thead>\n",
       "  <tbody>\n",
       "    <tr>\n",
       "      <th>99995</th>\n",
       "      <td>AARON PREMIUM FINANCE LIMITED</td>\n",
       "      <td>07362306</td>\n",
       "      <td>Private Limited Company</td>\n",
       "      <td>CN00099995</td>\n",
       "      <td>T511</td>\n",
       "    </tr>\n",
       "    <tr>\n",
       "      <th>99996</th>\n",
       "      <td>AARON PRIGG ENTERPRISES LIMITED</td>\n",
       "      <td>09288641</td>\n",
       "      <td>Private Limited Company</td>\n",
       "      <td>CN00099996</td>\n",
       "      <td>T511</td>\n",
       "    </tr>\n",
       "    <tr>\n",
       "      <th>99997</th>\n",
       "      <td>AARON PRINCE CONSULTING LIMITED</td>\n",
       "      <td>06996571</td>\n",
       "      <td>Private Limited Company</td>\n",
       "      <td>CN00099997</td>\n",
       "      <td>T511</td>\n",
       "    </tr>\n",
       "    <tr>\n",
       "      <th>99998</th>\n",
       "      <td>AARON PRINTERS LIMITED</td>\n",
       "      <td>04446484</td>\n",
       "      <td>Private Limited Company</td>\n",
       "      <td>CN00099998</td>\n",
       "      <td>T511</td>\n",
       "    </tr>\n",
       "    <tr>\n",
       "      <th>99999</th>\n",
       "      <td>AARON PRINTING AND MAILING SOLUTIONS LIMITED</td>\n",
       "      <td>09632263</td>\n",
       "      <td>Private Limited Company</td>\n",
       "      <td>CN00099999</td>\n",
       "      <td>T511</td>\n",
       "    </tr>\n",
       "  </tbody>\n",
       "</table>\n",
       "</div>"
      ],
      "text/plain": [
       "                                               Name    Number  \\\n",
       "99995                 AARON PREMIUM FINANCE LIMITED  07362306   \n",
       "99996               AARON PRIGG ENTERPRISES LIMITED  09288641   \n",
       "99997               AARON PRINCE CONSULTING LIMITED  06996571   \n",
       "99998                        AARON PRINTERS LIMITED  04446484   \n",
       "99999  AARON PRINTING AND MAILING SOLUTIONS LIMITED  09632263   \n",
       "\n",
       "                      Category         CUI   TUI  \n",
       "99995  Private Limited Company  CN00099995  T511  \n",
       "99996  Private Limited Company  CN00099996  T511  \n",
       "99997  Private Limited Company  CN00099997  T511  \n",
       "99998  Private Limited Company  CN00099998  T511  \n",
       "99999  Private Limited Company  CN00099999  T511  "
      ]
     },
     "execution_count": 59,
     "metadata": {},
     "output_type": "execute_result"
    }
   ],
   "source": [
    "dfNew.tail()"
   ]
  },
  {
   "cell_type": "code",
   "execution_count": 61,
   "metadata": {},
   "outputs": [],
   "source": [
    "dfNew2 = dfNew[['CUI']]"
   ]
  },
  {
   "cell_type": "code",
   "execution_count": 63,
   "metadata": {},
   "outputs": [
    {
     "name": "stderr",
     "output_type": "stream",
     "text": [
      "/home/applied/python372/lib/python3.7/site-packages/ipykernel_launcher.py:1: SettingWithCopyWarning: \n",
      "A value is trying to be set on a copy of a slice from a DataFrame.\n",
      "Try using .loc[row_indexer,col_indexer] = value instead\n",
      "\n",
      "See the caveats in the documentation: http://pandas.pydata.org/pandas-docs/stable/indexing.html#indexing-view-versus-copy\n",
      "  \"\"\"Entry point for launching an IPython kernel.\n"
     ]
    }
   ],
   "source": [
    "dfNew2['STR'] = dfNew.Name"
   ]
  },
  {
   "cell_type": "code",
   "execution_count": 65,
   "metadata": {},
   "outputs": [
    {
     "name": "stderr",
     "output_type": "stream",
     "text": [
      "/home/applied/python372/lib/python3.7/site-packages/ipykernel_launcher.py:1: SettingWithCopyWarning: \n",
      "A value is trying to be set on a copy of a slice from a DataFrame.\n",
      "Try using .loc[row_indexer,col_indexer] = value instead\n",
      "\n",
      "See the caveats in the documentation: http://pandas.pydata.org/pandas-docs/stable/indexing.html#indexing-view-versus-copy\n",
      "  \"\"\"Entry point for launching an IPython kernel.\n"
     ]
    }
   ],
   "source": [
    "dfNew2['CODE'] = dfNew.Number"
   ]
  },
  {
   "cell_type": "code",
   "execution_count": 66,
   "metadata": {},
   "outputs": [
    {
     "name": "stderr",
     "output_type": "stream",
     "text": [
      "/home/applied/python372/lib/python3.7/site-packages/ipykernel_launcher.py:1: SettingWithCopyWarning: \n",
      "A value is trying to be set on a copy of a slice from a DataFrame.\n",
      "Try using .loc[row_indexer,col_indexer] = value instead\n",
      "\n",
      "See the caveats in the documentation: http://pandas.pydata.org/pandas-docs/stable/indexing.html#indexing-view-versus-copy\n",
      "  \"\"\"Entry point for launching an IPython kernel.\n"
     ]
    }
   ],
   "source": [
    "dfNew2['TYPE'] = dfNew.Category"
   ]
  },
  {
   "cell_type": "code",
   "execution_count": 67,
   "metadata": {},
   "outputs": [],
   "source": [
    "dfNew2['TUI'] = dfNew['TUI']"
   ]
  },
  {
   "cell_type": "code",
   "execution_count": 68,
   "metadata": {},
   "outputs": [
    {
     "data": {
      "text/html": [
       "<div>\n",
       "<style scoped>\n",
       "    .dataframe tbody tr th:only-of-type {\n",
       "        vertical-align: middle;\n",
       "    }\n",
       "\n",
       "    .dataframe tbody tr th {\n",
       "        vertical-align: top;\n",
       "    }\n",
       "\n",
       "    .dataframe thead th {\n",
       "        text-align: right;\n",
       "    }\n",
       "</style>\n",
       "<table border=\"1\" class=\"dataframe\">\n",
       "  <thead>\n",
       "    <tr style=\"text-align: right;\">\n",
       "      <th></th>\n",
       "      <th>CUI</th>\n",
       "      <th>STR</th>\n",
       "      <th>CODE</th>\n",
       "      <th>TYPE</th>\n",
       "      <th>TUI</th>\n",
       "    </tr>\n",
       "  </thead>\n",
       "  <tbody>\n",
       "    <tr>\n",
       "      <th>0</th>\n",
       "      <td>CN00000000</td>\n",
       "      <td>! LTD</td>\n",
       "      <td>08209948</td>\n",
       "      <td>Private Limited Company</td>\n",
       "      <td>T511</td>\n",
       "    </tr>\n",
       "    <tr>\n",
       "      <th>1</th>\n",
       "      <td>CN00000001</td>\n",
       "      <td>!? LTD</td>\n",
       "      <td>11399177</td>\n",
       "      <td>Private Limited Company</td>\n",
       "      <td>T511</td>\n",
       "    </tr>\n",
       "    <tr>\n",
       "      <th>2</th>\n",
       "      <td>CN00000002</td>\n",
       "      <td>!BIG IMPACT GRAPHICS LIMITED</td>\n",
       "      <td>11743365</td>\n",
       "      <td>Private Limited Company</td>\n",
       "      <td>T511</td>\n",
       "    </tr>\n",
       "    <tr>\n",
       "      <th>3</th>\n",
       "      <td>CN00000003</td>\n",
       "      <td>!NNOV8 LIMITED</td>\n",
       "      <td>11006939</td>\n",
       "      <td>Private Limited Company</td>\n",
       "      <td>T511</td>\n",
       "    </tr>\n",
       "    <tr>\n",
       "      <th>4</th>\n",
       "      <td>CN00000004</td>\n",
       "      <td>!NSPIRED INVESTMENTS LTD</td>\n",
       "      <td>SC606050</td>\n",
       "      <td>Private Limited Company</td>\n",
       "      <td>T511</td>\n",
       "    </tr>\n",
       "  </tbody>\n",
       "</table>\n",
       "</div>"
      ],
      "text/plain": [
       "          CUI                           STR      CODE  \\\n",
       "0  CN00000000                         ! LTD  08209948   \n",
       "1  CN00000001                        !? LTD  11399177   \n",
       "2  CN00000002  !BIG IMPACT GRAPHICS LIMITED  11743365   \n",
       "3  CN00000003                !NNOV8 LIMITED  11006939   \n",
       "4  CN00000004      !NSPIRED INVESTMENTS LTD  SC606050   \n",
       "\n",
       "                      TYPE   TUI  \n",
       "0  Private Limited Company  T511  \n",
       "1  Private Limited Company  T511  \n",
       "2  Private Limited Company  T511  \n",
       "3  Private Limited Company  T511  \n",
       "4  Private Limited Company  T511  "
      ]
     },
     "execution_count": 68,
     "metadata": {},
     "output_type": "execute_result"
    }
   ],
   "source": [
    "dfNew2.head()"
   ]
  },
  {
   "cell_type": "code",
   "execution_count": 69,
   "metadata": {},
   "outputs": [],
   "source": [
    "dfNew2.to_csv('./Downloads/Data/Datasets/NonMedical/companies100000.csv', index=False)"
   ]
  }
 ],
 "metadata": {
  "kernelspec": {
   "display_name": "Python 3",
   "language": "python",
   "name": "python3"
  },
  "language_info": {
   "codemirror_mode": {
    "name": "ipython",
    "version": 3
   },
   "file_extension": ".py",
   "mimetype": "text/x-python",
   "name": "python",
   "nbconvert_exporter": "python",
   "pygments_lexer": "ipython3",
   "version": "3.7.2"
  }
 },
 "nbformat": 4,
 "nbformat_minor": 2
}
